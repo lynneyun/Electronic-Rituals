{
 "cells": [
  {
   "cell_type": "markdown",
   "metadata": {},
   "source": [
    "## Ouija Board: Autocorrect Version ##\n",
    "\n",
    "by [Lynne Yun](https://www.lynneyun.com)\n",
    "\n",
    "Let's build our Ouija board to be user-friendly to the spirits. Since we are relying on language as communication, let's make the board easy to use. These are the steps we'll take:\n",
    "1. Build a digital 'Ouija board' that has area sizes customized for letter frequencies in English. (data source: [English Letter Frequency via Cornell.edu](http://pi.math.cornell.edu/~mec/2003-2004/cryptography/subs/frequencies.html)\n",
    "2. Pick letters at 'random', helped along by our mysterious entities. \n",
    "3. Use the Spelling Correction function from [Textblob](https://textblob.readthedocs.io/en/dev/quickstart.html#spelling-correction) to help our spirits communicate even if they have a typo!\n",
    "\n",
    "P.S. I envision the 'Ouija Board' to look something like a [Californa Job Case layout](https://www.google.com/url?sa=i&url=http%3A%2F%2Fua-letterpress.blogspot.com%2F2010%2F06%2Fwhy-of-california-job-case.html&psig=AOvVaw3Yij_DD4hrQNX-nFKcNEaY&ust=1586362678084000&source=images&cd=vfe&ved=0CAIQjRxqFwoTCIjeldHb1ugCFQAAAAAdAAAAABAI)"
   ]
  },
  {
   "cell_type": "markdown",
   "metadata": {},
   "source": [
    "### Generate the String###"
   ]
  },
  {
   "cell_type": "code",
   "execution_count": 1,
   "metadata": {},
   "outputs": [],
   "source": [
    "import random\n",
    "\n",
    "letters = [\"E\", \"T\", \"A\", \"O\", \"I\", \"N\", \"S\",\"R\",\"H\",\"D\",\"L\",\"U\",\"C\",\"M\",\"F\",\"Y\",\"W\",\"G\",\"P\",\"B\",\"V\",\"K\",\"X\",\"Q\",\"J\",\"Z\"]\n",
    "\n",
    "frequency = [12.02,9.10,8.12,7.68,7.31,6.95,6.28,6.02,5.92,4.32,3.98,2.88,2.71,2.61,2.30,2.11,2.09,2.03,1.82,1.49,1.11,0.69,0.17,0.11,0.10,0.07]\n",
    "\n",
    "string = random.choices(letters, frequency, k = 30)"
   ]
  },
  {
   "cell_type": "markdown",
   "metadata": {},
   "source": [
    "### Definite Word Lengths###"
   ]
  },
  {
   "cell_type": "code",
   "execution_count": 2,
   "metadata": {},
   "outputs": [],
   "source": [
    "## From previous Allison's notebook\n",
    "from scipy.stats import truncnorm\n",
    "def t_normal(a, b, mu, sigma):\n",
    "    tn = truncnorm((a-mu)/sigma, (b-mu)/sigma, loc=mu, scale=sigma)\n",
    "    return tn.rvs(1)[0]\n",
    "\n",
    "word_len = int(t_normal(0,10,4.7,10))"
   ]
  },
  {
   "cell_type": "markdown",
   "metadata": {},
   "source": [
    "### Insert word spaces ###"
   ]
  },
  {
   "cell_type": "code",
   "execution_count": 5,
   "metadata": {},
   "outputs": [],
   "source": [
    "string = random.choices(letters, frequency, k = 100)\n",
    "s = \"\".join(string)\n",
    "\n",
    "def insert(s, ch):\n",
    "    word_len_ct = 0\n",
    "    master_string = s\n",
    "    while word_len_ct <= len(s):\n",
    "        word_len = int(t_normal(1,10,4.7,10))\n",
    "#         print(word_len)\n",
    "        word_len_ct = word_len_ct+word_len+1\n",
    "        master_string = master_string[0:word_len_ct] + ch + master_string[word_len_ct:]\n",
    "#         print('word_len_ct is '+ str(word_len_ct))\n",
    "        if word_len_ct > len(s):\n",
    "            return(master_string)\n",
    "\n",
    "# print(str(insert(s, \" \")))\n",
    "#string.insert(word_len, ' ')"
   ]
  },
  {
   "cell_type": "markdown",
   "metadata": {},
   "source": [
    "### Let's see what we got! ###"
   ]
  },
  {
   "cell_type": "code",
   "execution_count": 4,
   "metadata": {},
   "outputs": [
    {
     "name": "stdout",
     "output_type": "stream",
     "text": [
      "original is:\n",
      "EURRA NOAGTIRIT ANEEHE EMYUEOIS ONMU ADUCBA PEAEIYFNT ATT NDWUED UV NFON EE ISDHUOAF IDLI MGWDEDGT K L OIIOIDGIRRBHEE\n",
      "corrected:\n",
      "EURRA NOAGTIRIT ANEEHE EMYUEOIS ONMU ADUCBA PEAEIYFNT ATT NDWUED of NFON of ISDHUOAF IDLI MGWDEDGT K L OIIOIDGIRRBHEE\n"
     ]
    }
   ],
   "source": [
    "from autocorrect import Speller\n",
    "\n",
    "string = random.choices(letters, frequency, k = 100)\n",
    "s = \"\".join(string)\n",
    "\n",
    "orig_str = insert(s, \" \")\n",
    "print('original is:')\n",
    "print(orig_str)\n",
    "\n",
    "# spell = Speller()\n",
    "# spell(\"LVEO VTA\")\n",
    "\n",
    "# print(spell(orig_str))\n",
    "\n",
    "from textblob import TextBlob\n",
    "\n",
    "b = TextBlob(orig_str)\n",
    "\n",
    "print (\"corrected:\")\n",
    "print(b.correct())"
   ]
  },
  {
   "cell_type": "code",
   "execution_count": null,
   "metadata": {},
   "outputs": [],
   "source": []
  }
 ],
 "metadata": {
  "kernelspec": {
   "display_name": "Python 3",
   "language": "python",
   "name": "python3"
  },
  "language_info": {
   "codemirror_mode": {
    "name": "ipython",
    "version": 3
   },
   "file_extension": ".py",
   "mimetype": "text/x-python",
   "name": "python",
   "nbconvert_exporter": "python",
   "pygments_lexer": "ipython3",
   "version": "3.7.7"
  }
 },
 "nbformat": 4,
 "nbformat_minor": 4
}
