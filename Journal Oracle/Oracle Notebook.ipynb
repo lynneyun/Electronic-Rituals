{
 "cells": [
  {
   "cell_type": "markdown",
   "metadata": {},
   "source": [
    "## Let's Make a Journal-O-Mancy! ##\n",
    "\n",
    "In this era of self-quarantining, I've been good at keeping up my journals. What better way to ensure that I will be keeping up my habit than creating a fun journal-o-mancy that I can use after each journal entry?\n",
    "\n",
    "### Tools to be Used ###\n",
    "\n",
    "1. First, I'm going to put in my journal entry, and do a sentiment analysis with [TextBlob](https://textblob.readthedocs.io/en/dev/). Then, using TextBlob's corpus, a list of keywords will be generated that has a similar sentiment score.\n",
    "\n",
    "2. Then, using the keyword(s), I'm hoping to use the [Advice Slip JSON API](https://api.adviceslip.com/#object-slip) to get a corresponding advice.\n",
    "\n",
    "3. Last, using the same keyword(s), I'm hoping to use [SearchLY API](https://searchly.asuarez.dev/docs/v1), which can suggest songs by lyric content similarity."
   ]
  },
  {
   "cell_type": "code",
   "execution_count": 21,
   "metadata": {},
   "outputs": [],
   "source": [
    "#Let's install TextBlob and the corpus!\n",
    "#Skip if you already have this\n",
    "!pip3 install -U textblob\n",
    "!python -m textblob.download_corpora"
   ]
  },
  {
   "cell_type": "code",
   "execution_count": 22,
   "metadata": {},
   "outputs": [],
   "source": [
    "from textblob import TextBlob"
   ]
  },
  {
   "cell_type": "code",
   "execution_count": 23,
   "metadata": {},
   "outputs": [],
   "source": [
    "journal_entry = open(\"sample_entry.txt\",\"r\") \n",
    "\n",
    "entry = TextBlob(str(journal_entry.readlines()))\n",
    "\n",
    "journal_entry.close() \n"
   ]
  },
  {
   "cell_type": "markdown",
   "metadata": {},
   "source": [
    "You can do fun things with TextBlob, such as extracting the noun phrases like this:"
   ]
  },
  {
   "cell_type": "code",
   "execution_count": 56,
   "metadata": {},
   "outputs": [
    {
     "data": {
      "text/plain": [
       "WordList(['dear diary', 'laika', 'super hyper', 'who', 'peanut butter', 'flop flop flop whenever', 'difficult times'])"
      ]
     },
     "execution_count": 56,
     "metadata": {},
     "output_type": "execute_result"
    }
   ],
   "source": [
    "entry.noun_phrases\n",
    "\n",
    "##We'll use this later!"
   ]
  },
  {
   "cell_type": "markdown",
   "metadata": {},
   "source": [
    "### Let's do a Sentiment Analysis! ###\n",
    "\n",
    "From TextBlob about the `.sentiment` property:\n",
    "> The sentiment property returns a namedtuple of the form Sentiment(polarity, subjectivity). The polarity score is a float within the range [-1.0, 1.0]. The subjectivity is a float within the range [0.0, 1.0] where 0.0 is very objective and 1.0 is very subjective.\n"
   ]
  },
  {
   "cell_type": "code",
   "execution_count": 25,
   "metadata": {},
   "outputs": [
    {
     "name": "stdout",
     "output_type": "stream",
     "text": [
      "Sentiment(polarity=0.3048888888888889, subjectivity=0.5665555555555555)\n"
     ]
    }
   ],
   "source": [
    "print(entry.sentiment)"
   ]
  },
  {
   "cell_type": "markdown",
   "metadata": {},
   "source": [
    "What does this mean?\n",
    "Polarity is 0.75, which means that the statement is positive and 0.75 subjectivity refers that it is an opinion rather than fact."
   ]
  },
  {
   "cell_type": "code",
   "execution_count": 26,
   "metadata": {},
   "outputs": [],
   "source": [
    "## This should be included in your Python packages\n",
    "import xml.etree.ElementTree as ET\n",
    "tree = ET.parse('en-sentiment.xml')"
   ]
  },
  {
   "cell_type": "code",
   "execution_count": 34,
   "metadata": {},
   "outputs": [
    {
     "name": "stdout",
     "output_type": "stream",
     "text": [
      "['accurate', 'accurate', 'advanced', 'applicative', 'apportioned', 'bizarre', 'come-at-able', 'compelling', 'complimentary', 'detailed', 'ecological', 'enjoy', 'for sure', 'fresh', 'genuine', 'guarded', 'high', 'incomparable', 'lifelike', 'lonely', 'naturalistic', 'nonviolent', 'risk-free', 'secure', 'smooth', 'straight', 'well-off']\n"
     ]
    }
   ],
   "source": [
    "polarity_score = str(entry.sentiment.polarity)\n",
    "subjectivity_score = str(entry.sentiment.subjectivity)\n",
    "error_margin = 0.1 ##needs to be somewhere between 1 and 0\n",
    "\n",
    "wordlist = []\n",
    "for element in tree.iterfind('word'):\n",
    "    if str(float(polarity_score)+ error_margin) > element.attrib['polarity'] > str(float(polarity_score)-error_margin):\n",
    "            if str(float(subjectivity_score)+ error_margin) > element.attrib['subjectivity'] > str(float(subjectivity_score)-error_margin):\n",
    "                wordlist.append(element.attrib['form'])\n",
    "print (wordlist)"
   ]
  },
  {
   "cell_type": "markdown",
   "metadata": {},
   "source": [
    "## Advice Slip API ##\n",
    "Let's try to get advice with these keywords!"
   ]
  },
  {
   "cell_type": "code",
   "execution_count": 35,
   "metadata": {},
   "outputs": [],
   "source": [
    "import requests"
   ]
  },
  {
   "cell_type": "markdown",
   "metadata": {},
   "source": [
    "[Dataquest.io]('https://www.dataquest.io/blog/python-api-tutorial') was very helpful in understanding API requests. \n",
    "\n",
    "Here's a few key API Status Codes:\n",
    "\n",
    ">200: Everything went okay, and the result has been returned (if any).\n",
    "\n",
    ">404: The resource you tried to access wasn’t found on the server.\n",
    "\n",
    "Let's check our API is working!"
   ]
  },
  {
   "cell_type": "code",
   "execution_count": 29,
   "metadata": {},
   "outputs": [
    {
     "name": "stdout",
     "output_type": "stream",
     "text": [
      "200\n",
      "{'total_results': '5', 'query': '', 'slips': [{'advice': \"Alway do anything for love, but don't do that.\", 'slip_id': '101'}, {'advice': 'Be a good lover.', 'slip_id': '174'}, {'advice': 'Never waste an opportunity to tell someone you love them.', 'slip_id': '202'}, {'advice': \"You can fail at what you don't want. So you might as well take a chance on doing what you love.\", 'slip_id': '184'}, {'advice': \"You can fail at what you don't want. So you might as well take a chance on doing what you love.\", 'slip_id': '185'}]}\n"
     ]
    }
   ],
   "source": [
    "#using 'love' as a dummy keyword, let's get the API.\n",
    "response = requests.get(\"https://api.adviceslip.com/advice/search/love\")\n",
    "\n",
    "# Hopefully this is 200!\n",
    "print(response.status_code)\n",
    "\n",
    "#Let's print out what we get back in JSON\n",
    "print(response.json())"
   ]
  },
  {
   "cell_type": "markdown",
   "metadata": {},
   "source": [
    "Let's do this for real!"
   ]
  },
  {
   "cell_type": "code",
   "execution_count": 46,
   "metadata": {},
   "outputs": [
    {
     "name": "stdout",
     "output_type": "stream",
     "text": [
      "max tries # is 27\n",
      "accurate: didn't work.\n",
      "accurate: didn't work.\n",
      "advanced: didn't work.\n",
      "applicative: didn't work.\n",
      "apportioned: didn't work.\n",
      "bizarre: didn't work.\n",
      "come-at-able: didn't work.\n",
      "compelling: didn't work.\n",
      "complimentary: didn't work.\n",
      "detailed: didn't work.\n",
      "ecological: didn't work.\n",
      "found advice for enjoy\n"
     ]
    }
   ],
   "source": [
    "max_tries = len(wordlist)\n",
    "current_tries = 0\n",
    "master_advice = []\n",
    "\n",
    "print((\"max tries # is \") + str(max_tries))\n",
    "\n",
    "def get_advice():\n",
    "    global current_tries\n",
    "    search = wordlist[current_tries]\n",
    "    response = requests.get(\"https://api.adviceslip.com/advice/search/\"+ search)\n",
    "    try: \n",
    "        if response.json()['total_results'][0]:\n",
    "            advice = response.json()['slips'][0]['advice']\n",
    "            master_advice.append(advice)\n",
    "            print(\"found advice for \"+ str(wordlist[current_tries]))\n",
    "    except KeyError:\n",
    "        print((wordlist[current_tries])+(\": didn't work.\"))\n",
    "        if current_tries == max_tries:\n",
    "            print(\"No advice found with keyword!\")\n",
    "        current_tries += 1\n",
    "#         print(current_tries)\n",
    "        get_advice()\n",
    "        \n",
    "## Let's give this function a spin\n",
    "get_advice()"
   ]
  },
  {
   "cell_type": "markdown",
   "metadata": {},
   "source": [
    "Let's try to get advice!"
   ]
  },
  {
   "cell_type": "code",
   "execution_count": 47,
   "metadata": {
    "scrolled": true
   },
   "outputs": [
    {
     "name": "stdout",
     "output_type": "stream",
     "text": [
      "Enjoy a little nonsense now and then.\n"
     ]
    }
   ],
   "source": [
    "print(master_advice[0])"
   ]
  },
  {
   "cell_type": "markdown",
   "metadata": {},
   "source": [
    "## SearchLY API ##\n",
    "Let's try to get songs with these keywords!"
   ]
  },
  {
   "cell_type": "code",
   "execution_count": 48,
   "metadata": {},
   "outputs": [
    {
     "name": "stdout",
     "output_type": "stream",
     "text": [
      "dear diary laika super hyper who peanut butter flop flop flop whenever difficult times\n"
     ]
    }
   ],
   "source": [
    "#Let's grab the nouns from before!!\n",
    "punctuation = \".,''[]\"  # add whatever you want\n",
    "\n",
    "noun_list = str(entry.noun_phrases)\n",
    "for c in noun_list:\n",
    "    if c in punctuation:\n",
    "        noun_list = noun_list.replace(c, \"\")\n",
    "\n",
    "print(noun_list)\n"
   ]
  },
  {
   "cell_type": "code",
   "execution_count": 49,
   "metadata": {},
   "outputs": [],
   "source": [
    "url = 'https://searchly.asuarez.dev/api/v1/similarity/by_content'\n",
    "request_body = {\"content\": noun_list}\n",
    "\n",
    "# Make the classify request\n",
    "# We only need the first JSON response!\n",
    "response = requests.post(url, json=request_body).json()['response']['similarity_list'][0]"
   ]
  },
  {
   "cell_type": "code",
   "execution_count": 53,
   "metadata": {},
   "outputs": [
    {
     "name": "stdout",
     "output_type": "stream",
     "text": [
      "{'artist_name': 'mc chris', 'artist_url': 'https://www.azlyrics.com/m/mcchris.html', 'id': 36769, 'index_id': 36765, 'lyrics': \"your rapper, he's wack dude, but does he even try?, can he do what mine do? think you should say buh-bye. get up on the mic like a five on a fifty. quickly avoid the hickeys from the bucktoothed bitties. fake timberlake just to be by britney. smoke that pipe with whitney, shoot that blow with iggy. l.i.b, n.y.c. and all places in between, you could call me a mint cuz i make the green. i make the scene, i make believe that you all was naked, so i wouldn't have to fake it, just copy and paste it, like adobe photoshop, red foreman in robocop, i get up on the mic and you know i won't fuckin stop. it's like the props of carrot top, or yellow stains in my socks. you acting like you hip? you all hepped up on hops!, yo let's do the body rock, cuz the beat just be so bumpin, let's get our groove on before our carriage is a pumpkin, before they outlaw fuckin, not bad for a drunken munchkin. my name is mc chris welcome to my lyric luncheon. word up, word up, word up, word up and you know, oo-ow-oo-ow-oo-owowowow. name's mc, my band's the lee majors, put us on the bill, and boy ya hit paydirt. when i'm on the mic, the girlies wanna flizzirt, but i tell 'em chill like a dq blizzard help me, like a dq blizzard, d, d, q blizzard, help me, like a dq blizzard, d, d, q blizzard. half corn beef and cabbage, half fred savage. the better than average rapper with the have to have it habit. heir apparents on my carrot like they was jessica rabbit, like fake wood paneling on the side of station wagons. fraggle rock on the box, fruit loops on my chin, wonderin if i'm ever really gonna fit in, or be a son of a bitch with a gut and some tits, or a roaming casanova with my dick in a, i'll be back in a bit, i gotta floss my johnson, make that cream for the state wisconsin. you say all of my shit is complete nonsense, fuck my cd and the shitty ass contents. bullshit, my shit's the bomb. siamese twins want manage a trois. robot bitches want their backs massaged. they may not be real but them tits is large. word up, word up, word up, word up and you know.\", 'percentage': 88.67, 'song_name': 'dq blizzard', 'song_url': 'https://www.azlyrics.com/lyrics/mcchris/dqblizzard.html'}\n"
     ]
    }
   ],
   "source": [
    "print(response)"
   ]
  },
  {
   "cell_type": "code",
   "execution_count": 57,
   "metadata": {},
   "outputs": [
    {
     "name": "stdout",
     "output_type": "stream",
     "text": [
      "Artist: mc chris\n",
      "Song: dq blizzard\n",
      "Lyrics: your rapper, he's wack dude, but does he even try?, can he do what mine do? think you should say buh-bye. get up on the mic like a five on a fifty. quickly avoid the hickeys from the bucktoothed bitties. fake timberlake just to be by britney. smoke that pipe with whitney, shoot that blow with iggy. l.i.b, n.y.c. and all places in between, you could call me a mint cuz i make the green. i make the scene, i make believe that you all was naked, so i wouldn't have to fake it, just copy and paste it, like adobe photoshop, red foreman in robocop, i get up on the mic and you know i won't fuckin stop. it's like the props of carrot top, or yellow stains in my socks. you acting like you hip? you all hepped up on hops!, yo let's do the body rock, cuz the beat just be so bumpin, let's get our groove on before our carriage is a pumpkin, before they outlaw fuckin, not bad for a drunken munchkin. my name is mc chris welcome to my lyric luncheon. word up, word up, word up, word up and you know, oo-ow-oo-ow-oo-owowowow. name's mc, my band's the lee majors, put us on the bill, and boy ya hit paydirt. when i'm on the mic, the girlies wanna flizzirt, but i tell 'em chill like a dq blizzard help me, like a dq blizzard, d, d, q blizzard, help me, like a dq blizzard, d, d, q blizzard. half corn beef and cabbage, half fred savage. the better than average rapper with the have to have it habit. heir apparents on my carrot like they was jessica rabbit, like fake wood paneling on the side of station wagons. fraggle rock on the box, fruit loops on my chin, wonderin if i'm ever really gonna fit in, or be a son of a bitch with a gut and some tits, or a roaming casanova with my dick in a, i'll be back in a bit, i gotta floss my johnson, make that cream for the state wisconsin. you say all of my shit is complete nonsense, fuck my cd and the shitty ass contents. bullshit, my shit's the bomb. siamese twins want manage a trois. robot bitches want their backs massaged. they may not be real but them tits is large. word up, word up, word up, word up and you know.\n"
     ]
    }
   ],
   "source": [
    "artist = response['artist_name']\n",
    "song = response['song_name']\n",
    "lyrics = response['lyrics']\n",
    "url = response['song_url']\n",
    "\n",
    "print(\"Artist: \" + artist)\n",
    "print(\"Song: \" + song)\n",
    "print(\"Lyrics: \" + lyrics)\n",
    "print(\"URL: \" + url)"
   ]
  },
  {
   "cell_type": "markdown",
   "metadata": {},
   "source": [
    "## Let's put it all Together! ##"
   ]
  },
  {
   "cell_type": "code",
   "execution_count": 55,
   "metadata": {},
   "outputs": [
    {
     "name": "stdout",
     "output_type": "stream",
     "text": [
      "Journal Entry\n",
      "[\"Dear Diary, my dog Laika has been super hyper during this pandemic. Who know's what he's been up to? While I am trying my best to do homework, he keeps running around the house looking for peanut butter. I love him so much, but I do wish he would calm down! His ears are very cute and goes flop flop flop whenever we go out for a walk. He keeps me distracted during these difficult times, and for that I love him very much. \"]\n",
      " \n",
      "Today's Advice for You:\n",
      "Enjoy a little nonsense now and then.\n",
      " \n",
      "Today's Theme Song:\n",
      "Artist: mc chris\n",
      "Song: dq blizzard\n",
      "URL: https://www.azlyrics.com/lyrics/mcchris/dqblizzard.html\n"
     ]
    }
   ],
   "source": [
    "print(\"Journal Entry\")\n",
    "print(entry)\n",
    "print(\" \")\n",
    "print(\"Today's Advice for You:\")\n",
    "print(master_advice[0])\n",
    "print(\" \")\n",
    "print(\"Today's Theme Song:\")\n",
    "print(\"Artist: \" + artist)\n",
    "print(\"Song: \" + song)\n",
    "print(\"URL: \" + url)"
   ]
  },
  {
   "cell_type": "code",
   "execution_count": null,
   "metadata": {},
   "outputs": [],
   "source": []
  }
 ],
 "metadata": {
  "kernelspec": {
   "display_name": "Python 3",
   "language": "python",
   "name": "python3"
  },
  "language_info": {
   "codemirror_mode": {
    "name": "ipython",
    "version": 3
   },
   "file_extension": ".py",
   "mimetype": "text/x-python",
   "name": "python",
   "nbconvert_exporter": "python",
   "pygments_lexer": "ipython3",
   "version": "3.7.4"
  }
 },
 "nbformat": 4,
 "nbformat_minor": 2
}
