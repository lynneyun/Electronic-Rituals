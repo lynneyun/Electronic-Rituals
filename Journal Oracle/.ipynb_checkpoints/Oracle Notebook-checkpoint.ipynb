{
 "cells": [
  {
   "cell_type": "markdown",
   "metadata": {},
   "source": [
    "## Let's Make a Journal-O-Mancy! ##\n",
    "\n",
    "In this era of self-quarantining, I've been good at keeping up my journals. What better way to ensure that I will be keeping up my habit than creating a fun journal-o-mancy that I can use after each journal entry?\n",
    "\n",
    "### Tools to be Used ###\n",
    "\n",
    "1. First, I'm going to put in my journal entry, and do a sentiment analysis with [TextBlob](https://textblob.readthedocs.io/en/dev/). Then, using TextBlob's corpus, a list of keywords will be generated that has a similar sentiment score.\n",
    "\n",
    "2. Then, using the keyword(s), I'm hoping to use the [Advice Slip JSON API](https://api.adviceslip.com/#object-slip) to get a corresponding advice.\n",
    "\n",
    "3. Last, using the same keyword(s), I'm hoping to use [SearchLY API](https://searchly.asuarez.dev/docs/v1), which can suggest songs by lyric content similarity."
   ]
  },
  {
   "cell_type": "code",
   "execution_count": 8,
   "metadata": {},
   "outputs": [],
   "source": [
    "#Let's install TextBlob!\n",
    "\n",
    "# !pip3 install -U textblob\n",
    "# !python -m textblob.download_corpora"
   ]
  },
  {
   "cell_type": "code",
   "execution_count": 9,
   "metadata": {},
   "outputs": [],
   "source": [
    "from textblob import TextBlob"
   ]
  },
  {
   "cell_type": "code",
   "execution_count": 268,
   "metadata": {},
   "outputs": [],
   "source": [
    "entry = TextBlob(\"Dear Diary, my dog Laika has been super hyper during this pandemic. Who know's what he's been up to? While I am trying my best to do homework, he keeps running around the house looking for peanut butter. I love him so much, but I do wish he would calm down!\")"
   ]
  },
  {
   "cell_type": "markdown",
   "metadata": {},
   "source": [
    "You can do fun things with TextBlob, such as extracting the noun phrases like this:"
   ]
  },
  {
   "cell_type": "code",
   "execution_count": 269,
   "metadata": {},
   "outputs": [
    {
     "data": {
      "text/plain": [
       "WordList(['dear diary', 'laika', 'super hyper', 'who', 'peanut butter'])"
      ]
     },
     "execution_count": 269,
     "metadata": {},
     "output_type": "execute_result"
    }
   ],
   "source": [
    "entry.noun_phrases"
   ]
  },
  {
   "cell_type": "markdown",
   "metadata": {},
   "source": [
    "### Let's do a Sentiment Analysis! ###\n",
    "\n",
    "From TextBlob about the `.sentiment` property:\n",
    "> The sentiment property returns a namedtuple of the form Sentiment(polarity, subjectivity). The polarity score is a float within the range [-1.0, 1.0]. The subjectivity is a float within the range [0.0, 1.0] where 0.0 is very objective and 1.0 is very subjective.\n"
   ]
  },
  {
   "cell_type": "code",
   "execution_count": 270,
   "metadata": {},
   "outputs": [
    {
     "name": "stdout",
     "output_type": "stream",
     "text": [
      "Sentiment(polarity=0.3564814814814814, subjectivity=0.46759259259259256)\n"
     ]
    }
   ],
   "source": [
    "print(entry.sentiment)"
   ]
  },
  {
   "cell_type": "markdown",
   "metadata": {},
   "source": [
    "What does this mean?\n",
    "Polarity is 0.75, which means that the statement is positive and 0.75 subjectivity refers that it is an opinion rather than fact."
   ]
  },
  {
   "cell_type": "code",
   "execution_count": 271,
   "metadata": {},
   "outputs": [],
   "source": [
    "import xml.etree.ElementTree as ET\n",
    "tree = ET.parse('en-sentiment.xml')"
   ]
  },
  {
   "cell_type": "code",
   "execution_count": 272,
   "metadata": {},
   "outputs": [
    {
     "name": "stdout",
     "output_type": "stream",
     "text": [
      "['accurate', 'applicative', 'available', 'colorful', 'come-at-able', 'complimentary', 'enjoy', 'enlightening', 'fit', 'for sure', 'fresh', 'full', 'general', 'genuine', 'high', 'intellectual', 'intriguing', 'smooth', 'sound', 'vocational']\n"
     ]
    }
   ],
   "source": [
    "polarity_score = str(entry.sentiment.polarity)\n",
    "subjectivity_score = str(entry.sentiment.subjectivity)\n",
    "error_margin = 0.1 ##needs to be somewhere between 1 and 0\n",
    "\n",
    "wordlist = []\n",
    "for element in tree.iterfind('word'):\n",
    "    if str(float(polarity_score)+ error_margin) > element.attrib['polarity'] > str(float(polarity_score)-error_margin):\n",
    "            if str(float(subjectivity_score)+ error_margin) > element.attrib['subjectivity'] > str(float(subjectivity_score)-error_margin):\n",
    "                wordlist.append(element.attrib['form'])\n",
    "print (wordlist)\n"
   ]
  },
  {
   "cell_type": "markdown",
   "metadata": {},
   "source": [
    "## Advice Slip API ##\n",
    "Let's try to get advice with these keywords!"
   ]
  },
  {
   "cell_type": "code",
   "execution_count": 273,
   "metadata": {},
   "outputs": [],
   "source": [
    "import requests"
   ]
  },
  {
   "cell_type": "markdown",
   "metadata": {},
   "source": [
    "[Dataquest.io]('https://www.dataquest.io/blog/python-api-tutorial') was very helpful in understanding API requests. \n",
    "\n",
    "Here's a few key API Status Codes:\n",
    "\n",
    ">200: Everything went okay, and the result has been returned (if any).\n",
    "\n",
    ">404: The resource you tried to access wasn’t found on the server.\n",
    "\n",
    "Let's check our API is working!"
   ]
  },
  {
   "cell_type": "code",
   "execution_count": 274,
   "metadata": {},
   "outputs": [
    {
     "name": "stdout",
     "output_type": "stream",
     "text": [
      "200\n",
      "{'total_results': '5', 'query': '', 'slips': [{'advice': \"Alway do anything for love, but don't do that.\", 'slip_id': '101'}, {'advice': 'Be a good lover.', 'slip_id': '174'}, {'advice': 'Never waste an opportunity to tell someone you love them.', 'slip_id': '202'}, {'advice': \"You can fail at what you don't want. So you might as well take a chance on doing what you love.\", 'slip_id': '184'}, {'advice': \"You can fail at what you don't want. So you might as well take a chance on doing what you love.\", 'slip_id': '185'}]}\n"
     ]
    }
   ],
   "source": [
    "#using 'love' as a dummy keyword, let's get the API.\n",
    "response = requests.get(\"https://api.adviceslip.com/advice/search/love\")\n",
    "\n",
    "# Hopefully this is 200!\n",
    "print(response.status_code)\n",
    "\n",
    "#Let's print out what we get back in JSON\n",
    "print(response.json())"
   ]
  },
  {
   "cell_type": "code",
   "execution_count": 290,
   "metadata": {},
   "outputs": [
    {
     "name": "stdout",
     "output_type": "stream",
     "text": [
      "accurate: didn't work.\n",
      "applicative: didn't work.\n",
      "available: didn't work.\n",
      "colorful: didn't work.\n",
      "come-at-able: didn't work.\n",
      "complimentary: didn't work.\n"
     ]
    }
   ],
   "source": [
    "max_tries = len(wordlist)\n",
    "current_tries = 0\n",
    "master_advice = []\n",
    "\n",
    "def get_advice():\n",
    "    global current_tries\n",
    "    search = wordlist[current_tries]\n",
    "    response = requests.get(\"https://api.adviceslip.com/advice/search/\"+ search)\n",
    "    try: \n",
    "        if response.json()['total_results'][0]:\n",
    "            advice = response.json()['slips'][0]['advice']\n",
    "            master_advice.append(advice)\n",
    "    except KeyError:\n",
    "        print((wordlist[current_tries])+(\": didn't work.\"))\n",
    "        if current_tries == max_tries:\n",
    "            print(\"No advice found with keyword!\")\n",
    "        current_tries += 1\n",
    "        get_advice()\n",
    "        \n",
    "## Let's give this function a spin\n",
    "get_advice()"
   ]
  },
  {
   "cell_type": "markdown",
   "metadata": {},
   "source": [
    "Let's try to get advice!"
   ]
  },
  {
   "cell_type": "code",
   "execution_count": 294,
   "metadata": {
    "scrolled": true
   },
   "outputs": [
    {
     "name": "stdout",
     "output_type": "stream",
     "text": [
      "Enjoy a little nonsense now and then.\n"
     ]
    }
   ],
   "source": [
    "print(master_advice[0])"
   ]
  },
  {
   "cell_type": "markdown",
   "metadata": {},
   "source": [
    "## SearchLY API ##\n",
    "Let's try to get songs with these keywords!"
   ]
  },
  {
   "cell_type": "code",
   "execution_count": 343,
   "metadata": {},
   "outputs": [
    {
     "name": "stdout",
     "output_type": "stream",
     "text": [
      "dear diary laika super hyper who peanut butter\n"
     ]
    }
   ],
   "source": [
    "#Let's grab the nouns from before!!\n",
    "punctuation = \".,''[]\"  # add whatever you want\n",
    "\n",
    "noun_list = str(entry.noun_phrases)\n",
    "for c in noun_list:\n",
    "    if c in punctuation:\n",
    "        noun_list = noun_list.replace(c, \"\")\n",
    "\n",
    "print(noun_list)\n"
   ]
  },
  {
   "cell_type": "code",
   "execution_count": 379,
   "metadata": {},
   "outputs": [],
   "source": [
    "url = 'https://searchly.asuarez.dev/api/v1/similarity/by_content'\n",
    "request_body = {\"content\": noun_list}\n",
    "\n",
    "# Make the classify request\n",
    "# We only need the first JSON response!\n",
    "response = requests.post(url, json=request_body).json()['response']['similarity_list'][0]"
   ]
  },
  {
   "cell_type": "code",
   "execution_count": 380,
   "metadata": {},
   "outputs": [
    {
     "name": "stdout",
     "output_type": "stream",
     "text": [
      "Artist: dead south, the\n",
      "Song: fat little killer boy\n",
      "Lyrics: fat little killer boy, eggs, sugar and joy, pappa used to beat em, and momma used to knead him, like some rolly polly boy, now he's making food out of you, slicing this piece in two, hate taught how to make him, learn just how to bake em, into some tasty joy, fat little killer boy, don't tease him, just please him, tell him he's a good boy, or his hammer's coming down on you, oh, fat little killer boy, hit you in the head with a hammer, kill you and make up a batter, put you in a cake, bake you til you're great, cut you then served on a platter, perogies, cabbage rolls too, them boys teased you all the way through, called you little fatty, slapped you like a patty, now they're in a tasty stew, fat little killer boy, don't tease him, just please him, tell him he's a good boy, or his hammer's coming down on you, oh, you're so, fat little killer boy, don't tease him, just please him, tell him he's a good boy, or his hammer's coming down on you, oh, fat little killer boy, fat little killer boy, eggs, sugar and joy\n"
     ]
    }
   ],
   "source": [
    "artist = response['artist_name']\n",
    "song = response['song_name']\n",
    "lyrics = response['lyrics']\n",
    "\n",
    "print(\"Artist: \" + artist)\n",
    "print(\"Song: \" + song)\n",
    "print(\"Lyrics: \" + lyrics)"
   ]
  },
  {
   "cell_type": "markdown",
   "metadata": {},
   "source": [
    "## Let's put it all Together! ##"
   ]
  },
  {
   "cell_type": "code",
   "execution_count": 389,
   "metadata": {},
   "outputs": [
    {
     "name": "stdout",
     "output_type": "stream",
     "text": [
      "Journal Entry\n",
      "Dear Diary, my dog Laika has been super hyper during this pandemic. Who know's what he's been up to? While I am trying my best to do homework, he keeps running around the house looking for peanut butter. I love him so much, but I do wish he would calm down!\n",
      " \n",
      "Today's Advice for You:\n",
      "Enjoy a little nonsense now and then.\n",
      " \n",
      "Today's Theme Song:\n",
      "Artist: dead south, the\n",
      "Song: fat little killer boy\n"
     ]
    }
   ],
   "source": [
    "print(\"Journal Entry\")\n",
    "print(entry)\n",
    "print(\" \")\n",
    "print(\"Today's Advice for You:\")\n",
    "print(master_advice[0])\n",
    "print(\" \")\n",
    "print(\"Today's Theme Song:\")\n",
    "print(\"Artist: \" + artist)\n",
    "print(\"Song: \" + song)"
   ]
  },
  {
   "cell_type": "code",
   "execution_count": null,
   "metadata": {},
   "outputs": [],
   "source": []
  }
 ],
 "metadata": {
  "kernelspec": {
   "display_name": "Python 3",
   "language": "python",
   "name": "python3"
  },
  "language_info": {
   "codemirror_mode": {
    "name": "ipython",
    "version": 3
   },
   "file_extension": ".py",
   "mimetype": "text/x-python",
   "name": "python",
   "nbconvert_exporter": "python",
   "pygments_lexer": "ipython3",
   "version": "3.7.4"
  }
 },
 "nbformat": 4,
 "nbformat_minor": 2
}
